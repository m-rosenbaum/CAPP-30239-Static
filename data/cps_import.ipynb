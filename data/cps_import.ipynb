{
 "cells": [
  {
   "cell_type": "markdown",
   "metadata": {},
   "source": [
    "## Import CPS Data from NBER Website\n",
    "The CPS data is preprocessed to calculate alternative unemployment rates by the National Bureau of Economic Research (NBER). It is stored in the form:\n",
    "    https://data.nber.org/cps-basic3/csv/<CCYY>/cpsb<CCYY><MM>.csv\n",
    "This file downlaods those data and then cleans and imports it into the database."
   ]
  },
  {
   "cell_type": "code",
   "execution_count": null,
   "metadata": {},
   "outputs": [],
   "source": [
    "%load_ext autoreload\n",
    "%autoreload 2\n",
    "from etl_eta import load_data\n",
    "from etl_cps import clean_cps"
   ]
  }
 ],
 "metadata": {
  "kernelspec": {
   "display_name": ".venv",
   "language": "python",
   "name": "python3"
  },
  "language_info": {
   "name": "python",
   "version": "3.12.1"
  }
 },
 "nbformat": 4,
 "nbformat_minor": 2
}
