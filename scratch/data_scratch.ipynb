{
 "cells": [
  {
   "cell_type": "markdown",
   "metadata": {},
   "source": [
    "# Testing code to automate pulling data from the ETA Site\n",
    "This workbook is scratch code to develop the ETL pipeline to collect data from the ETA site. All finalized code will be implemented in polars in the ../data/ folder."
   ]
  },
  {
   "cell_type": "code",
   "execution_count": 1,
   "metadata": {},
   "outputs": [],
   "source": [
    "import polars as pl"
   ]
  },
  {
   "cell_type": "markdown",
   "metadata": {},
   "source": [
    "## 1. Collect Claims Data and Convert to Months\n",
    "[Unemployment Insurance Weekly Claims Data](https://oui.doleta.gov/unemploy/claims.asp): This is a state-, week-level panel of the number of new claimants of unemplyoment insurance and the number of unemployment insurance payments (weeks claimed) of active insured unemployed workers. It includes 104,304 state weeks (including Puerto Rico, District of Columbia, and the United States Virgin Islands) between August 1987 and the present."
   ]
  },
  {
   "cell_type": "code",
   "execution_count": 19,
   "metadata": {},
   "outputs": [
    {
     "data": {
      "text/html": [
       "<div><style>\n",
       ".dataframe > thead > tr,\n",
       ".dataframe > tbody > tr {\n",
       "  text-align: right;\n",
       "  white-space: pre-wrap;\n",
       "}\n",
       "</style>\n",
       "<small>shape: (5, 28)</small><table border=\"1\" class=\"dataframe\"><thead><tr><th>st</th><th>rptdate</th><th>c1</th><th>c2</th><th>c3</th><th>c4</th><th>c5</th><th>c6</th><th>c7</th><th>c8</th><th>c9</th><th>c10</th><th>c11</th><th>c12</th><th>c13</th><th>c14</th><th>c15</th><th>c16</th><th>c17</th><th>c18</th><th>c19</th><th>c20</th><th>c21</th><th>c22</th><th>c23</th><th>curdate</th><th>priorwk_pub</th><th>priorwk</th></tr><tr><td>str</td><td>str</td><td>i64</td><td>str</td><td>i64</td><td>i64</td><td>i64</td><td>i64</td><td>i64</td><td>i64</td><td>i64</td><td>i64</td><td>i64</td><td>i64</td><td>i64</td><td>i64</td><td>i64</td><td>i64</td><td>i64</td><td>i64</td><td>f64</td><td>f64</td><td>f64</td><td>str</td><td>str</td><td>str</td><td>str</td><td>str</td></tr></thead><tbody><tr><td>&quot;AK&quot;</td><td>&quot;2/15/1986&quot;</td><td>6</td><td>&quot;2/8/1986&quot;</td><td>2048</td><td>8</td><td>9</td><td>0</td><td>0</td><td>21230</td><td>400</td><td>133</td><td>0</td><td>0</td><td>3287</td><td>3331</td><td>0</td><td>0</td><td>16996</td><td>205263</td><td>8.28</td><td>7.53</td><td>109.96</td><td>&quot;B&quot;</td><td>&quot;12/29/1985&quot;</td><td>&quot;10/12/2024&quot;</td><td>&quot;10/7/2024&quot;</td><td>&quot;10/5/2024&quot;</td></tr><tr><td>&quot;AK&quot;</td><td>&quot;2/22/1986&quot;</td><td>7</td><td>&quot;2/15/1986&quot;</td><td>1635</td><td>17</td><td>8</td><td>0</td><td>0</td><td>19106</td><td>359</td><td>136</td><td>0</td><td>0</td><td>2758</td><td>2688</td><td>0</td><td>0</td><td>17355</td><td>205263</td><td>8.45</td><td>7.76</td><td>108.89</td><td>&quot;B&quot;</td><td>&quot;12/29/1985&quot;</td><td>&quot;10/12/2024&quot;</td><td>&quot;10/7/2024&quot;</td><td>&quot;10/5/2024&quot;</td></tr><tr><td>&quot;AK&quot;</td><td>&quot;3/1/1986&quot;</td><td>8</td><td>&quot;2/22/1986&quot;</td><td>1818</td><td>15</td><td>17</td><td>0</td><td>0</td><td>21424</td><td>380</td><td>148</td><td>0</td><td>0</td><td>3362</td><td>3324</td><td>0</td><td>0</td><td>17922</td><td>205263</td><td>8.73</td><td>7.97</td><td>109.53</td><td>&quot;B&quot;</td><td>&quot;12/29/1985&quot;</td><td>&quot;10/12/2024&quot;</td><td>&quot;10/7/2024&quot;</td><td>&quot;10/5/2024&quot;</td></tr><tr><td>&quot;AK&quot;</td><td>&quot;3/8/1986&quot;</td><td>9</td><td>&quot;3/1/1986&quot;</td><td>2257</td><td>20</td><td>17</td><td>0</td><td>0</td><td>21380</td><td>395</td><td>149</td><td>0</td><td>0</td><td>3273</td><td>3202</td><td>0</td><td>0</td><td>18384</td><td>205263</td><td>8.95</td><td>8.17</td><td>109.54</td><td>&quot;B&quot;</td><td>&quot;12/29/1985&quot;</td><td>&quot;10/12/2024&quot;</td><td>&quot;10/7/2024&quot;</td><td>&quot;10/5/2024&quot;</td></tr><tr><td>&quot;AK&quot;</td><td>&quot;3/15/1986&quot;</td><td>10</td><td>&quot;3/8/1986&quot;</td><td>2005</td><td>18</td><td>17</td><td>0</td><td>0</td><td>21812</td><td>387</td><td>145</td><td>0</td><td>0</td><td>3380</td><td>3319</td><td>0</td><td>0</td><td>18886</td><td>205263</td><td>9.2</td><td>8.32</td><td>110.57</td><td>&quot;B&quot;</td><td>&quot;12/29/1985&quot;</td><td>&quot;10/12/2024&quot;</td><td>&quot;10/7/2024&quot;</td><td>&quot;10/5/2024&quot;</td></tr></tbody></table></div>"
      ],
      "text/plain": [
       "shape: (5, 28)\n",
       "┌─────┬───────────┬─────┬───────────┬───┬────────────┬────────────┬─────────────┬───────────┐\n",
       "│ st  ┆ rptdate   ┆ c1  ┆ c2        ┆ … ┆ c23        ┆ curdate    ┆ priorwk_pub ┆ priorwk   │\n",
       "│ --- ┆ ---       ┆ --- ┆ ---       ┆   ┆ ---        ┆ ---        ┆ ---         ┆ ---       │\n",
       "│ str ┆ str       ┆ i64 ┆ str       ┆   ┆ str        ┆ str        ┆ str         ┆ str       │\n",
       "╞═════╪═══════════╪═════╪═══════════╪═══╪════════════╪════════════╪═════════════╪═══════════╡\n",
       "│ AK  ┆ 2/15/1986 ┆ 6   ┆ 2/8/1986  ┆ … ┆ 12/29/1985 ┆ 10/12/2024 ┆ 10/7/2024   ┆ 10/5/2024 │\n",
       "│ AK  ┆ 2/22/1986 ┆ 7   ┆ 2/15/1986 ┆ … ┆ 12/29/1985 ┆ 10/12/2024 ┆ 10/7/2024   ┆ 10/5/2024 │\n",
       "│ AK  ┆ 3/1/1986  ┆ 8   ┆ 2/22/1986 ┆ … ┆ 12/29/1985 ┆ 10/12/2024 ┆ 10/7/2024   ┆ 10/5/2024 │\n",
       "│ AK  ┆ 3/8/1986  ┆ 9   ┆ 3/1/1986  ┆ … ┆ 12/29/1985 ┆ 10/12/2024 ┆ 10/7/2024   ┆ 10/5/2024 │\n",
       "│ AK  ┆ 3/15/1986 ┆ 10  ┆ 3/8/1986  ┆ … ┆ 12/29/1985 ┆ 10/12/2024 ┆ 10/7/2024   ┆ 10/5/2024 │\n",
       "└─────┴───────────┴─────┴───────────┴───┴────────────┴────────────┴─────────────┴───────────┘"
      ]
     },
     "execution_count": 19,
     "metadata": {},
     "output_type": "execute_result"
    }
   ],
   "source": [
    "# Data at https://oui.doleta.gov/unemploy/csv/ar539.csv -- timeout error for direct polars download\n",
    "df = pl.read_csv(\"G:/My Drive/CAPP/2025_Q1_CAPP 30239/Data/ar539.csv\")\n",
    "df.head()"
   ]
  },
  {
   "cell_type": "code",
   "execution_count": 20,
   "metadata": {},
   "outputs": [],
   "source": [
    "# Rename dict for 539\n",
    "rename_539 = {\n",
    "    \"st\": \"state\", # State\n",
    "    \"rptdate\": \"rptdt\",\n",
    "    \"c1\": \"wk_num\", # Week Number\n",
    "    \"c2\": \"dt\", # Reflected Week Ending\n",
    "    \"c3\": \"ct_ic\", # IC - Initial Claims\n",
    "    \"c4\": \"ct_fic\", # FIC - Federal Initial Claims \n",
    "    \"c5\": \"ct_xic\", # XIC - Military Initial claims\n",
    "    \"c6\": \"WSIC\", # WSIC\n",
    "    \"c7\": \"WSEIC\", # WSEIC\n",
    "    \"c8\": \"ct_wks\", # CW - Weeks claimed\n",
    "    \"c9\": \"ct_wks_f\", # FCW - Federal weeks claims\n",
    "    \"c10\": \"ct_wks_x\", # XCW - Military weeks claimed\n",
    "    \"c11\": \"WSCW\", # WSCW\n",
    "    \"c12\": \"WSECW\", # WSECW\n",
    "    \"c13\": \"ct_wks_eb\", # EBT - Total continued weeks claimed under the Federal/State Extended Benefit Program\n",
    "    \"c14\": \"ct_wks_eb_st\", # EBUI - That part of EBT which represents only State UI weeks claimed under the Federal/State EB program\n",
    "    \"c15\": \"ABT\",\n",
    "    \"c16\": \"ABUI\",\n",
    "    \"c17\": \"rt_unemp\", # AT - Moving average of unemplotyment\n",
    "    \"c18\": \"rt_emp_cv\", # CE - Covered employment average over 12 months in 4 of last 6 quarter\n",
    "    \"c19\": \"rt_recip\", # R - recipiency over past 13 weeks = AT / CE\n",
    "    \"c20\": \"AR\", # AR - average recipiency i the past 2 years\n",
    "    \"c21\": \"P\", # P = R / AR\n",
    "    \"c22\": \"ind_eb\", # EB - Indicate the beginning or ending of a EB period\n",
    "    \"c23\": \"dt_eb\" # Change Date - Date status changed \n",
    "}"
   ]
  },
  {
   "cell_type": "code",
   "execution_count": 21,
   "metadata": {},
   "outputs": [
    {
     "data": {
      "text/html": [
       "<div><style>\n",
       ".dataframe > thead > tr,\n",
       ".dataframe > tbody > tr {\n",
       "  text-align: right;\n",
       "  white-space: pre-wrap;\n",
       "}\n",
       "</style>\n",
       "<small>shape: (5, 15)</small><table border=\"1\" class=\"dataframe\"><thead><tr><th>state</th><th>dt</th><th>wk_num</th><th>ct_ic</th><th>ct_fic</th><th>ct_xic</th><th>ct_wks</th><th>ct_wks_f</th><th>ct_wks_x</th><th>ct_wks_eb</th><th>rt_recip</th><th>rt_emp_cv</th><th>rt_unemp</th><th>ind_eb</th><th>dt_eb</th></tr><tr><td>str</td><td>str</td><td>i64</td><td>i64</td><td>i64</td><td>i64</td><td>i64</td><td>i64</td><td>i64</td><td>i64</td><td>f64</td><td>i64</td><td>i64</td><td>str</td><td>str</td></tr></thead><tbody><tr><td>&quot;AK&quot;</td><td>&quot;2/8/1986&quot;</td><td>6</td><td>2048</td><td>8</td><td>9</td><td>21230</td><td>400</td><td>133</td><td>3287</td><td>8.28</td><td>205263</td><td>16996</td><td>&quot;B&quot;</td><td>&quot;12/29/1985&quot;</td></tr><tr><td>&quot;AK&quot;</td><td>&quot;2/15/1986&quot;</td><td>7</td><td>1635</td><td>17</td><td>8</td><td>19106</td><td>359</td><td>136</td><td>2758</td><td>8.45</td><td>205263</td><td>17355</td><td>&quot;B&quot;</td><td>&quot;12/29/1985&quot;</td></tr><tr><td>&quot;AK&quot;</td><td>&quot;2/22/1986&quot;</td><td>8</td><td>1818</td><td>15</td><td>17</td><td>21424</td><td>380</td><td>148</td><td>3362</td><td>8.73</td><td>205263</td><td>17922</td><td>&quot;B&quot;</td><td>&quot;12/29/1985&quot;</td></tr><tr><td>&quot;AK&quot;</td><td>&quot;3/1/1986&quot;</td><td>9</td><td>2257</td><td>20</td><td>17</td><td>21380</td><td>395</td><td>149</td><td>3273</td><td>8.95</td><td>205263</td><td>18384</td><td>&quot;B&quot;</td><td>&quot;12/29/1985&quot;</td></tr><tr><td>&quot;AK&quot;</td><td>&quot;3/8/1986&quot;</td><td>10</td><td>2005</td><td>18</td><td>17</td><td>21812</td><td>387</td><td>145</td><td>3380</td><td>9.2</td><td>205263</td><td>18886</td><td>&quot;B&quot;</td><td>&quot;12/29/1985&quot;</td></tr></tbody></table></div>"
      ],
      "text/plain": [
       "shape: (5, 15)\n",
       "┌───────┬───────────┬────────┬───────┬───┬───────────┬──────────┬────────┬────────────┐\n",
       "│ state ┆ dt        ┆ wk_num ┆ ct_ic ┆ … ┆ rt_emp_cv ┆ rt_unemp ┆ ind_eb ┆ dt_eb      │\n",
       "│ ---   ┆ ---       ┆ ---    ┆ ---   ┆   ┆ ---       ┆ ---      ┆ ---    ┆ ---        │\n",
       "│ str   ┆ str       ┆ i64    ┆ i64   ┆   ┆ i64       ┆ i64      ┆ str    ┆ str        │\n",
       "╞═══════╪═══════════╪════════╪═══════╪═══╪═══════════╪══════════╪════════╪════════════╡\n",
       "│ AK    ┆ 2/8/1986  ┆ 6      ┆ 2048  ┆ … ┆ 205263    ┆ 16996    ┆ B      ┆ 12/29/1985 │\n",
       "│ AK    ┆ 2/15/1986 ┆ 7      ┆ 1635  ┆ … ┆ 205263    ┆ 17355    ┆ B      ┆ 12/29/1985 │\n",
       "│ AK    ┆ 2/22/1986 ┆ 8      ┆ 1818  ┆ … ┆ 205263    ┆ 17922    ┆ B      ┆ 12/29/1985 │\n",
       "│ AK    ┆ 3/1/1986  ┆ 9      ┆ 2257  ┆ … ┆ 205263    ┆ 18384    ┆ B      ┆ 12/29/1985 │\n",
       "│ AK    ┆ 3/8/1986  ┆ 10     ┆ 2005  ┆ … ┆ 205263    ┆ 18886    ┆ B      ┆ 12/29/1985 │\n",
       "└───────┴───────────┴────────┴───────┴───┴───────────┴──────────┴────────┴────────────┘"
      ]
     },
     "execution_count": 21,
     "metadata": {},
     "output_type": "execute_result"
    }
   ],
   "source": [
    "# Rename and select columns\n",
    "df = df.rename(rename_539)\n",
    "df = df.select(\"state\", \"dt\",\n",
    "               \"wk_num\", \"ct_ic\", \"ct_fic\", \"ct_xic\", \n",
    "               \"ct_wks\", \"ct_wks_f\", \"ct_wks_x\", \"ct_wks_eb\",\n",
    "               \"rt_recip\", \"rt_emp_cv\", \"rt_unemp\",\n",
    "               \"ind_eb\", \"dt_eb\")\n",
    "df.head()"
   ]
  },
  {
   "cell_type": "code",
   "execution_count": null,
   "metadata": {},
   "outputs": [],
   "source": [
    "# Write to SQL DB based on schema defined in data"
   ]
  },
  {
   "cell_type": "markdown",
   "metadata": {},
   "source": [
    "## 2. Collect Demographics\n",
    "[ETA 203 (Characteristics of Insured Unemployed)](https://oui.doleta.gov/unemploy/DataDownloads.asp#ETA_203): This is a state- month-level panel of the number of new recipients of unemployment insurance and their self-reported race, gender, ethnicity, and industrial characteristics. It contains 20,317 state months (including Puerto Rico, District of Columbia, and the United States Virgin Islands) between August 1994 and the present."
   ]
  },
  {
   "cell_type": "code",
   "execution_count": 4,
   "metadata": {},
   "outputs": [
    {
     "data": {
      "text/html": [
       "<div><style>\n",
       ".dataframe > thead > tr,\n",
       ".dataframe > tbody > tr {\n",
       "  text-align: right;\n",
       "  white-space: pre-wrap;\n",
       "}\n",
       "</style>\n",
       "<small>shape: (5, 69)</small><table border=\"1\" class=\"dataframe\"><thead><tr><th>st</th><th>rptdate</th><th>c1</th><th>c2</th><th>c3</th><th>c4</th><th>c12</th><th>c13</th><th>c14</th><th>c15</th><th>c16</th><th>c17</th><th>c18</th><th>c19</th><th>c20</th><th>c40</th><th>c41</th><th>c42</th><th>c43</th><th>c44</th><th>c45</th><th>c46</th><th>c47</th><th>c48</th><th>c49</th><th>c50</th><th>c51</th><th>c52</th><th>c53</th><th>c54</th><th>c55</th><th>c56</th><th>c57</th><th>c58</th><th>c59</th><th>c60</th><th>c61</th><th>c62</th><th>c63</th><th>c64</th><th>c65</th><th>c66</th><th>c67</th><th>c68</th><th>c69</th><th>c70</th><th>c71</th><th>c72</th><th>c73</th><th>c74</th><th>c75</th><th>c76</th><th>c77</th><th>c78</th><th>c79</th><th>c80</th><th>c81</th><th>c82</th><th>c83</th><th>c84</th><th>c85</th><th>c86</th><th>c87</th><th>c88</th><th>c89</th><th>c90</th><th>c91</th><th>c92</th><th>c93</th></tr><tr><td>str</td><td>str</td><td>str</td><td>i64</td><td>i64</td><td>i64</td><td>i64</td><td>i64</td><td>i64</td><td>i64</td><td>i64</td><td>i64</td><td>i64</td><td>i64</td><td>i64</td><td>i64</td><td>i64</td><td>i64</td><td>i64</td><td>i64</td><td>i64</td><td>i64</td><td>i64</td><td>i64</td><td>i64</td><td>i64</td><td>i64</td><td>i64</td><td>i64</td><td>i64</td><td>i64</td><td>i64</td><td>i64</td><td>i64</td><td>i64</td><td>i64</td><td>i64</td><td>i64</td><td>i64</td><td>i64</td><td>i64</td><td>i64</td><td>i64</td><td>i64</td><td>i64</td><td>i64</td><td>i64</td><td>i64</td><td>i64</td><td>i64</td><td>i64</td><td>i64</td><td>i64</td><td>i64</td><td>i64</td><td>i64</td><td>i64</td><td>i64</td><td>i64</td><td>i64</td><td>i64</td><td>i64</td><td>i64</td><td>i64</td><td>i64</td><td>i64</td><td>i64</td><td>i64</td><td>i64</td></tr></thead><tbody><tr><td>&quot;AK&quot;</td><td>&quot;8/31/1994&quot;</td><td>&quot;P&quot;</td><td>4388</td><td>4554</td><td>0</td><td>343</td><td>527</td><td>2697</td><td>2907</td><td>1635</td><td>425</td><td>288</td><td>120</td><td>0</td><td>0</td><td>0</td><td>0</td><td>0</td><td>0</td><td>0</td><td>0</td><td>0</td><td>0</td><td>0</td><td>0</td><td>0</td><td>0</td><td>0</td><td>0</td><td>0</td><td>0</td><td>0</td><td>0</td><td>0</td><td>0</td><td>0</td><td>0</td><td>0</td><td>0</td><td>0</td><td>0</td><td>0</td><td>0</td><td>0</td><td>0</td><td>0</td><td>0</td><td>0</td><td>0</td><td>0</td><td>0</td><td>0</td><td>0</td><td>0</td><td>0</td><td>0</td><td>0</td><td>0</td><td>0</td><td>0</td><td>0</td><td>0</td><td>0</td><td>0</td><td>0</td><td>0</td><td>0</td><td>0</td></tr><tr><td>&quot;AK&quot;</td><td>&quot;9/30/1994&quot;</td><td>&quot;P&quot;</td><td>4523</td><td>4187</td><td>0</td><td>325</td><td>541</td><td>2718</td><td>2796</td><td>1560</td><td>375</td><td>263</td><td>132</td><td>0</td><td>0</td><td>0</td><td>0</td><td>0</td><td>0</td><td>0</td><td>0</td><td>0</td><td>0</td><td>0</td><td>0</td><td>0</td><td>0</td><td>0</td><td>0</td><td>0</td><td>0</td><td>0</td><td>0</td><td>0</td><td>0</td><td>0</td><td>0</td><td>0</td><td>0</td><td>0</td><td>0</td><td>0</td><td>0</td><td>0</td><td>0</td><td>0</td><td>0</td><td>0</td><td>0</td><td>0</td><td>0</td><td>0</td><td>0</td><td>0</td><td>0</td><td>0</td><td>0</td><td>0</td><td>0</td><td>0</td><td>0</td><td>0</td><td>0</td><td>0</td><td>0</td><td>0</td><td>0</td><td>0</td></tr><tr><td>&quot;AK&quot;</td><td>&quot;10/31/1994&quot;</td><td>&quot;P&quot;</td><td>5456</td><td>4388</td><td>0</td><td>309</td><td>636</td><td>3109</td><td>3201</td><td>1831</td><td>406</td><td>242</td><td>110</td><td>0</td><td>0</td><td>0</td><td>0</td><td>0</td><td>0</td><td>0</td><td>0</td><td>0</td><td>0</td><td>0</td><td>0</td><td>0</td><td>0</td><td>0</td><td>0</td><td>0</td><td>0</td><td>0</td><td>0</td><td>0</td><td>0</td><td>0</td><td>0</td><td>0</td><td>0</td><td>0</td><td>0</td><td>0</td><td>0</td><td>0</td><td>0</td><td>0</td><td>0</td><td>0</td><td>0</td><td>0</td><td>0</td><td>0</td><td>0</td><td>0</td><td>0</td><td>0</td><td>0</td><td>0</td><td>0</td><td>0</td><td>0</td><td>0</td><td>0</td><td>0</td><td>0</td><td>0</td><td>0</td><td>0</td></tr><tr><td>&quot;AK&quot;</td><td>&quot;11/30/1994&quot;</td><td>&quot;P&quot;</td><td>7869</td><td>5094</td><td>0</td><td>451</td><td>834</td><td>4174</td><td>4196</td><td>2327</td><td>482</td><td>323</td><td>176</td><td>0</td><td>0</td><td>0</td><td>0</td><td>0</td><td>0</td><td>0</td><td>0</td><td>0</td><td>0</td><td>0</td><td>0</td><td>0</td><td>0</td><td>0</td><td>0</td><td>0</td><td>0</td><td>0</td><td>0</td><td>0</td><td>0</td><td>0</td><td>0</td><td>0</td><td>0</td><td>0</td><td>0</td><td>0</td><td>0</td><td>0</td><td>0</td><td>0</td><td>0</td><td>0</td><td>0</td><td>0</td><td>0</td><td>0</td><td>0</td><td>0</td><td>0</td><td>0</td><td>0</td><td>0</td><td>0</td><td>0</td><td>0</td><td>0</td><td>0</td><td>0</td><td>0</td><td>0</td><td>0</td><td>0</td></tr><tr><td>&quot;AK&quot;</td><td>&quot;12/31/1994&quot;</td><td>&quot;P&quot;</td><td>8945</td><td>4602</td><td>0</td><td>502</td><td>838</td><td>4264</td><td>4382</td><td>2548</td><td>577</td><td>280</td><td>156</td><td>0</td><td>0</td><td>0</td><td>0</td><td>0</td><td>0</td><td>0</td><td>0</td><td>0</td><td>0</td><td>0</td><td>0</td><td>0</td><td>0</td><td>0</td><td>0</td><td>0</td><td>0</td><td>0</td><td>0</td><td>0</td><td>0</td><td>0</td><td>0</td><td>0</td><td>0</td><td>0</td><td>0</td><td>0</td><td>0</td><td>0</td><td>0</td><td>0</td><td>0</td><td>0</td><td>0</td><td>0</td><td>0</td><td>0</td><td>0</td><td>0</td><td>0</td><td>0</td><td>0</td><td>0</td><td>0</td><td>0</td><td>0</td><td>0</td><td>0</td><td>0</td><td>0</td><td>0</td><td>0</td><td>0</td></tr></tbody></table></div>"
      ],
      "text/plain": [
       "shape: (5, 69)\n",
       "┌─────┬────────────┬─────┬──────┬───┬─────┬─────┬─────┬─────┐\n",
       "│ st  ┆ rptdate    ┆ c1  ┆ c2   ┆ … ┆ c90 ┆ c91 ┆ c92 ┆ c93 │\n",
       "│ --- ┆ ---        ┆ --- ┆ ---  ┆   ┆ --- ┆ --- ┆ --- ┆ --- │\n",
       "│ str ┆ str        ┆ str ┆ i64  ┆   ┆ i64 ┆ i64 ┆ i64 ┆ i64 │\n",
       "╞═════╪════════════╪═════╪══════╪═══╪═════╪═════╪═════╪═════╡\n",
       "│ AK  ┆ 8/31/1994  ┆ P   ┆ 4388 ┆ … ┆ 0   ┆ 0   ┆ 0   ┆ 0   │\n",
       "│ AK  ┆ 9/30/1994  ┆ P   ┆ 4523 ┆ … ┆ 0   ┆ 0   ┆ 0   ┆ 0   │\n",
       "│ AK  ┆ 10/31/1994 ┆ P   ┆ 5456 ┆ … ┆ 0   ┆ 0   ┆ 0   ┆ 0   │\n",
       "│ AK  ┆ 11/30/1994 ┆ P   ┆ 7869 ┆ … ┆ 0   ┆ 0   ┆ 0   ┆ 0   │\n",
       "│ AK  ┆ 12/31/1994 ┆ P   ┆ 8945 ┆ … ┆ 0   ┆ 0   ┆ 0   ┆ 0   │\n",
       "└─────┴────────────┴─────┴──────┴───┴─────┴─────┴─────┴─────┘"
      ]
     },
     "execution_count": 4,
     "metadata": {},
     "output_type": "execute_result"
    }
   ],
   "source": [
    "# Load csv into polars from a URL\n",
    "# Link at https://oui.doleta.gov/unemploy/csv/ar203.csv -- Timeout error from ETA servers\n",
    "df = pl.read_csv(\"G:/My Drive/CAPP/2025_Q1_CAPP 30239/Data/ar203.csv\")\n",
    "df.head()"
   ]
  },
  {
   "cell_type": "code",
   "execution_count": null,
   "metadata": {},
   "outputs": [],
   "source": [
    "# Create dictionary for rename\n",
    "rename_203 = {\n",
    "    \n",
    "}"
   ]
  }
 ],
 "metadata": {
  "kernelspec": {
   "display_name": ".venv",
   "language": "python",
   "name": "python3"
  },
  "language_info": {
   "codemirror_mode": {
    "name": "ipython",
    "version": 3
   },
   "file_extension": ".py",
   "mimetype": "text/x-python",
   "name": "python",
   "nbconvert_exporter": "python",
   "pygments_lexer": "ipython3",
   "version": "3.12.1"
  }
 },
 "nbformat": 4,
 "nbformat_minor": 2
}
