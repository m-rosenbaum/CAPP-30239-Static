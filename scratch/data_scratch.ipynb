{
 "cells": [
  {
   "cell_type": "markdown",
   "metadata": {},
   "source": [
    "# Testing code to automate pulling data from the ETA Site\n",
    "This workbook is scratch code to develop the ETL pipeline to collect data from the ETA site. All finalized code will be implemented in polars in the ../data/ folder."
   ]
  },
  {
   "cell_type": "code",
   "execution_count": 97,
   "metadata": {},
   "outputs": [],
   "source": [
    "import polars as pl"
   ]
  },
  {
   "cell_type": "markdown",
   "metadata": {},
   "source": [
    "## 1. Collect Claims Data and Convert to Months\n",
    "[Unemployment Insurance Weekly Claims Data](https://oui.doleta.gov/unemploy/claims.asp): This is a state-, week-level panel of the number of new claimants of unemplyoment insurance and the number of unemployment insurance payments (weeks claimed) of active insured unemployed workers. It includes 104,304 state weeks (including Puerto Rico, District of Columbia, and the United States Virgin Islands) between August 1987 and the present."
   ]
  },
  {
   "cell_type": "code",
   "execution_count": 98,
   "metadata": {},
   "outputs": [
    {
     "data": {
      "text/html": [
       "<div><style>\n",
       ".dataframe > thead > tr,\n",
       ".dataframe > tbody > tr {\n",
       "  text-align: right;\n",
       "  white-space: pre-wrap;\n",
       "}\n",
       "</style>\n",
       "<small>shape: (5, 28)</small><table border=\"1\" class=\"dataframe\"><thead><tr><th>st</th><th>rptdate</th><th>c1</th><th>c2</th><th>c3</th><th>c4</th><th>c5</th><th>c6</th><th>c7</th><th>c8</th><th>c9</th><th>c10</th><th>c11</th><th>c12</th><th>c13</th><th>c14</th><th>c15</th><th>c16</th><th>c17</th><th>c18</th><th>c19</th><th>c20</th><th>c21</th><th>c22</th><th>c23</th><th>curdate</th><th>priorwk_pub</th><th>priorwk</th></tr><tr><td>str</td><td>str</td><td>i64</td><td>str</td><td>i64</td><td>i64</td><td>i64</td><td>i64</td><td>i64</td><td>i64</td><td>i64</td><td>i64</td><td>i64</td><td>i64</td><td>i64</td><td>i64</td><td>i64</td><td>i64</td><td>i64</td><td>i64</td><td>f64</td><td>f64</td><td>f64</td><td>str</td><td>str</td><td>str</td><td>str</td><td>str</td></tr></thead><tbody><tr><td>&quot;AK&quot;</td><td>&quot;2/15/1986&quot;</td><td>6</td><td>&quot;2/8/1986&quot;</td><td>2048</td><td>8</td><td>9</td><td>0</td><td>0</td><td>21230</td><td>400</td><td>133</td><td>0</td><td>0</td><td>3287</td><td>3331</td><td>0</td><td>0</td><td>16996</td><td>205263</td><td>8.28</td><td>7.53</td><td>109.96</td><td>&quot;B&quot;</td><td>&quot;12/29/1985&quot;</td><td>&quot;10/12/2024&quot;</td><td>&quot;10/7/2024&quot;</td><td>&quot;10/5/2024&quot;</td></tr><tr><td>&quot;AK&quot;</td><td>&quot;2/22/1986&quot;</td><td>7</td><td>&quot;2/15/1986&quot;</td><td>1635</td><td>17</td><td>8</td><td>0</td><td>0</td><td>19106</td><td>359</td><td>136</td><td>0</td><td>0</td><td>2758</td><td>2688</td><td>0</td><td>0</td><td>17355</td><td>205263</td><td>8.45</td><td>7.76</td><td>108.89</td><td>&quot;B&quot;</td><td>&quot;12/29/1985&quot;</td><td>&quot;10/12/2024&quot;</td><td>&quot;10/7/2024&quot;</td><td>&quot;10/5/2024&quot;</td></tr><tr><td>&quot;AK&quot;</td><td>&quot;3/1/1986&quot;</td><td>8</td><td>&quot;2/22/1986&quot;</td><td>1818</td><td>15</td><td>17</td><td>0</td><td>0</td><td>21424</td><td>380</td><td>148</td><td>0</td><td>0</td><td>3362</td><td>3324</td><td>0</td><td>0</td><td>17922</td><td>205263</td><td>8.73</td><td>7.97</td><td>109.53</td><td>&quot;B&quot;</td><td>&quot;12/29/1985&quot;</td><td>&quot;10/12/2024&quot;</td><td>&quot;10/7/2024&quot;</td><td>&quot;10/5/2024&quot;</td></tr><tr><td>&quot;AK&quot;</td><td>&quot;3/8/1986&quot;</td><td>9</td><td>&quot;3/1/1986&quot;</td><td>2257</td><td>20</td><td>17</td><td>0</td><td>0</td><td>21380</td><td>395</td><td>149</td><td>0</td><td>0</td><td>3273</td><td>3202</td><td>0</td><td>0</td><td>18384</td><td>205263</td><td>8.95</td><td>8.17</td><td>109.54</td><td>&quot;B&quot;</td><td>&quot;12/29/1985&quot;</td><td>&quot;10/12/2024&quot;</td><td>&quot;10/7/2024&quot;</td><td>&quot;10/5/2024&quot;</td></tr><tr><td>&quot;AK&quot;</td><td>&quot;3/15/1986&quot;</td><td>10</td><td>&quot;3/8/1986&quot;</td><td>2005</td><td>18</td><td>17</td><td>0</td><td>0</td><td>21812</td><td>387</td><td>145</td><td>0</td><td>0</td><td>3380</td><td>3319</td><td>0</td><td>0</td><td>18886</td><td>205263</td><td>9.2</td><td>8.32</td><td>110.57</td><td>&quot;B&quot;</td><td>&quot;12/29/1985&quot;</td><td>&quot;10/12/2024&quot;</td><td>&quot;10/7/2024&quot;</td><td>&quot;10/5/2024&quot;</td></tr></tbody></table></div>"
      ],
      "text/plain": [
       "shape: (5, 28)\n",
       "┌─────┬───────────┬─────┬───────────┬───┬────────────┬────────────┬─────────────┬───────────┐\n",
       "│ st  ┆ rptdate   ┆ c1  ┆ c2        ┆ … ┆ c23        ┆ curdate    ┆ priorwk_pub ┆ priorwk   │\n",
       "│ --- ┆ ---       ┆ --- ┆ ---       ┆   ┆ ---        ┆ ---        ┆ ---         ┆ ---       │\n",
       "│ str ┆ str       ┆ i64 ┆ str       ┆   ┆ str        ┆ str        ┆ str         ┆ str       │\n",
       "╞═════╪═══════════╪═════╪═══════════╪═══╪════════════╪════════════╪═════════════╪═══════════╡\n",
       "│ AK  ┆ 2/15/1986 ┆ 6   ┆ 2/8/1986  ┆ … ┆ 12/29/1985 ┆ 10/12/2024 ┆ 10/7/2024   ┆ 10/5/2024 │\n",
       "│ AK  ┆ 2/22/1986 ┆ 7   ┆ 2/15/1986 ┆ … ┆ 12/29/1985 ┆ 10/12/2024 ┆ 10/7/2024   ┆ 10/5/2024 │\n",
       "│ AK  ┆ 3/1/1986  ┆ 8   ┆ 2/22/1986 ┆ … ┆ 12/29/1985 ┆ 10/12/2024 ┆ 10/7/2024   ┆ 10/5/2024 │\n",
       "│ AK  ┆ 3/8/1986  ┆ 9   ┆ 3/1/1986  ┆ … ┆ 12/29/1985 ┆ 10/12/2024 ┆ 10/7/2024   ┆ 10/5/2024 │\n",
       "│ AK  ┆ 3/15/1986 ┆ 10  ┆ 3/8/1986  ┆ … ┆ 12/29/1985 ┆ 10/12/2024 ┆ 10/7/2024   ┆ 10/5/2024 │\n",
       "└─────┴───────────┴─────┴───────────┴───┴────────────┴────────────┴─────────────┴───────────┘"
      ]
     },
     "execution_count": 98,
     "metadata": {},
     "output_type": "execute_result"
    }
   ],
   "source": [
    "# Data at https://oui.doleta.gov/unemploy/csv/ar539.csv -- timeout error for direct polars download\n",
    "df = pl.read_csv(\"G:/My Drive/CAPP/2025_Q1_CAPP 30239/Data/ar539.csv\")\n",
    "df.head()"
   ]
  },
  {
   "cell_type": "code",
   "execution_count": 99,
   "metadata": {},
   "outputs": [],
   "source": [
    "# Rename dict for 539\n",
    "rename_539 = {\n",
    "    \"st\": \"st\", # State\n",
    "    \"rptdate\": \"rptdt\",\n",
    "    \"c1\": \"wk_num\", # Week Number\n",
    "    \"c2\": \"dt\", # Reflected Week Ending\n",
    "    \"c3\": \"ct_ic\", # IC - Initial Claims\n",
    "    \"c4\": \"ct_fic\", # FIC - Federal Initial Claims \n",
    "    \"c5\": \"ct_xic\", # XIC - Military Initial claims\n",
    "    \"c6\": \"WSIC\", # WSIC\n",
    "    \"c7\": \"WSEIC\", # WSEIC\n",
    "    \"c8\": \"ct_wks\", # CW - Weeks claimed\n",
    "    \"c9\": \"ct_wks_f\", # FCW - Federal weeks claims\n",
    "    \"c10\": \"ct_wks_x\", # XCW - Military weeks claimed\n",
    "    \"c11\": \"WSCW\", # WSCW\n",
    "    \"c12\": \"WSECW\", # WSECW\n",
    "    \"c13\": \"ct_wks_eb\", # EBT - Total continued weeks claimed under the Federal/State Extended Benefit Program\n",
    "    \"c14\": \"ct_wks_eb_st\", # EBUI - That part of EBT which represents only State UI weeks claimed under the Federal/State EB program\n",
    "    \"c15\": \"ABT\",\n",
    "    \"c16\": \"ABUI\",\n",
    "    \"c17\": \"ct_unemp\", # AT - Moving average of unemplotyment\n",
    "    \"c18\": \"ct_emp_cv\", # CE - Covered employment average over 12 months in 4 of last 6 quarter\n",
    "    \"c19\": \"rt_recip\", # R - recipiency over past 13 weeks = AT / CE\n",
    "    \"c20\": \"AR\", # AR - average recipiency i the past 2 years\n",
    "    \"c21\": \"P\", # P = R / AR\n",
    "    \"c22\": \"ind_eb\", # EB - Indicate the beginning or ending of a EB period\n",
    "    \"c23\": \"dt_eb\" # Change Date - Date status changed \n",
    "}"
   ]
  },
  {
   "cell_type": "code",
   "execution_count": 100,
   "metadata": {},
   "outputs": [],
   "source": [
    "# Rename and select columns\n",
    "df = df.rename(rename_539)\n",
    "df = df.select(\"st\", \"dt\",\n",
    "               \"wk_num\", \"ct_ic\", \"ct_fic\", \"ct_xic\", \n",
    "               \"ct_wks\", \"ct_wks_f\", \"ct_wks_x\", \"ct_wks_eb\",\n",
    "               \"rt_recip\",\n",
    "               \"ind_eb\", \"dt_eb\")\n",
    "# TODO: Handle week end date "
   ]
  },
  {
   "cell_type": "code",
   "execution_count": 101,
   "metadata": {},
   "outputs": [
    {
     "data": {
      "text/html": [
       "<div><style>\n",
       ".dataframe > thead > tr,\n",
       ".dataframe > tbody > tr {\n",
       "  text-align: right;\n",
       "  white-space: pre-wrap;\n",
       "}\n",
       "</style>\n",
       "<small>shape: (5, 11)</small><table border=\"1\" class=\"dataframe\"><thead><tr><th>st</th><th>dt_m</th><th>dt_y</th><th>ct_ic</th><th>ct_fic</th><th>ct_xic</th><th>ct_wks</th><th>ct_wks_f</th><th>ct_wks_x</th><th>ct_wks_eb</th><th>rt_recip</th></tr><tr><td>str</td><td>i8</td><td>i32</td><td>i64</td><td>i64</td><td>i64</td><td>i64</td><td>i64</td><td>i64</td><td>i64</td><td>f64</td></tr></thead><tbody><tr><td>&quot;IA&quot;</td><td>2</td><td>2003</td><td>13844</td><td>14</td><td>23</td><td>182334</td><td>305</td><td>539</td><td>0</td><td>2.7775</td></tr><tr><td>&quot;VT&quot;</td><td>7</td><td>2013</td><td>2074</td><td>1</td><td>10</td><td>21023</td><td>54</td><td>62</td><td>0</td><td>1.9675</td></tr><tr><td>&quot;ID&quot;</td><td>9</td><td>2007</td><td>6028</td><td>46</td><td>26</td><td>38965</td><td>223</td><td>269</td><td>0</td><td>1.316</td></tr><tr><td>&quot;IN&quot;</td><td>10</td><td>2016</td><td>14348</td><td>82</td><td>52</td><td>94859</td><td>357</td><td>433</td><td>0</td><td>0.684</td></tr><tr><td>&quot;IN&quot;</td><td>3</td><td>1995</td><td>14652</td><td>78</td><td>85</td><td>147665</td><td>986</td><td>1061</td><td>10</td><td>1.4975</td></tr></tbody></table></div>"
      ],
      "text/plain": [
       "shape: (5, 11)\n",
       "┌─────┬──────┬──────┬───────┬───┬──────────┬──────────┬───────────┬──────────┐\n",
       "│ st  ┆ dt_m ┆ dt_y ┆ ct_ic ┆ … ┆ ct_wks_f ┆ ct_wks_x ┆ ct_wks_eb ┆ rt_recip │\n",
       "│ --- ┆ ---  ┆ ---  ┆ ---   ┆   ┆ ---      ┆ ---      ┆ ---       ┆ ---      │\n",
       "│ str ┆ i8   ┆ i32  ┆ i64   ┆   ┆ i64      ┆ i64      ┆ i64       ┆ f64      │\n",
       "╞═════╪══════╪══════╪═══════╪═══╪══════════╪══════════╪═══════════╪══════════╡\n",
       "│ IA  ┆ 2    ┆ 2003 ┆ 13844 ┆ … ┆ 305      ┆ 539      ┆ 0         ┆ 2.7775   │\n",
       "│ VT  ┆ 7    ┆ 2013 ┆ 2074  ┆ … ┆ 54       ┆ 62       ┆ 0         ┆ 1.9675   │\n",
       "│ ID  ┆ 9    ┆ 2007 ┆ 6028  ┆ … ┆ 223      ┆ 269      ┆ 0         ┆ 1.316    │\n",
       "│ IN  ┆ 10   ┆ 2016 ┆ 14348 ┆ … ┆ 357      ┆ 433      ┆ 0         ┆ 0.684    │\n",
       "│ IN  ┆ 3    ┆ 1995 ┆ 14652 ┆ … ┆ 986      ┆ 1061     ┆ 10        ┆ 1.4975   │\n",
       "└─────┴──────┴──────┴───────┴───┴──────────┴──────────┴───────────┴──────────┘"
      ]
     },
     "execution_count": 101,
     "metadata": {},
     "output_type": "execute_result"
    }
   ],
   "source": [
    "# Extract month-level vars for collapse\n",
    "# TODO: Check how this is handled by the ETA. Not in documentation here.\n",
    "df = df.with_columns(\n",
    "    pl.col(\"dt\").str.to_date(format = \"%-m/%-d/%Y\", strict=True)\n",
    ")\n",
    "df = df.with_columns(\n",
    "    pl.col(\"dt\").dt.month().alias(\"dt_m\"),\n",
    "    pl.col(\"dt\").dt.year().alias(\"dt_y\")\n",
    ")\n",
    "\n",
    "# Collapse to month-level\n",
    "# Ref: https://stackoverflow.com/a/74902919\n",
    "df = df.group_by([\"st\", \"dt_m\", \"dt_y\"]).agg(\n",
    "   pl.col(r\"^(ct)_.*$\").sum(),\n",
    "   pl.col(r\"^(rt)_.*$\").mean() # Unweighted avg is fine because on time, not on pop\n",
    ")\n",
    "df.head()"
   ]
  },
  {
   "cell_type": "markdown",
   "metadata": {},
   "source": [
    "## 2. Collect Demographics\n",
    "[ETA 203 (Characteristics of Insured Unemployed)](https://oui.doleta.gov/unemploy/DataDownloads.asp#ETA_203): This is a state- month-level panel of the number of new recipients of unemployment insurance and their self-reported race, gender, ethnicity, and industrial characteristics. It contains 20,317 state months (including Puerto Rico, District of Columbia, and the United States Virgin Islands) between August 1994 and the present."
   ]
  },
  {
   "cell_type": "code",
   "execution_count": 102,
   "metadata": {},
   "outputs": [
    {
     "data": {
      "text/html": [
       "<div><style>\n",
       ".dataframe > thead > tr,\n",
       ".dataframe > tbody > tr {\n",
       "  text-align: right;\n",
       "  white-space: pre-wrap;\n",
       "}\n",
       "</style>\n",
       "<small>shape: (5, 69)</small><table border=\"1\" class=\"dataframe\"><thead><tr><th>st</th><th>rptdate</th><th>c1</th><th>c2</th><th>c3</th><th>c4</th><th>c12</th><th>c13</th><th>c14</th><th>c15</th><th>c16</th><th>c17</th><th>c18</th><th>c19</th><th>c20</th><th>c40</th><th>c41</th><th>c42</th><th>c43</th><th>c44</th><th>c45</th><th>c46</th><th>c47</th><th>c48</th><th>c49</th><th>c50</th><th>c51</th><th>c52</th><th>c53</th><th>c54</th><th>c55</th><th>c56</th><th>c57</th><th>c58</th><th>c59</th><th>c60</th><th>c61</th><th>c62</th><th>c63</th><th>c64</th><th>c65</th><th>c66</th><th>c67</th><th>c68</th><th>c69</th><th>c70</th><th>c71</th><th>c72</th><th>c73</th><th>c74</th><th>c75</th><th>c76</th><th>c77</th><th>c78</th><th>c79</th><th>c80</th><th>c81</th><th>c82</th><th>c83</th><th>c84</th><th>c85</th><th>c86</th><th>c87</th><th>c88</th><th>c89</th><th>c90</th><th>c91</th><th>c92</th><th>c93</th></tr><tr><td>str</td><td>str</td><td>str</td><td>i64</td><td>i64</td><td>i64</td><td>i64</td><td>i64</td><td>i64</td><td>i64</td><td>i64</td><td>i64</td><td>i64</td><td>i64</td><td>i64</td><td>i64</td><td>i64</td><td>i64</td><td>i64</td><td>i64</td><td>i64</td><td>i64</td><td>i64</td><td>i64</td><td>i64</td><td>i64</td><td>i64</td><td>i64</td><td>i64</td><td>i64</td><td>i64</td><td>i64</td><td>i64</td><td>i64</td><td>i64</td><td>i64</td><td>i64</td><td>i64</td><td>i64</td><td>i64</td><td>i64</td><td>i64</td><td>i64</td><td>i64</td><td>i64</td><td>i64</td><td>i64</td><td>i64</td><td>i64</td><td>i64</td><td>i64</td><td>i64</td><td>i64</td><td>i64</td><td>i64</td><td>i64</td><td>i64</td><td>i64</td><td>i64</td><td>i64</td><td>i64</td><td>i64</td><td>i64</td><td>i64</td><td>i64</td><td>i64</td><td>i64</td><td>i64</td><td>i64</td></tr></thead><tbody><tr><td>&quot;AK&quot;</td><td>&quot;8/31/1994&quot;</td><td>&quot;P&quot;</td><td>4388</td><td>4554</td><td>0</td><td>343</td><td>527</td><td>2697</td><td>2907</td><td>1635</td><td>425</td><td>288</td><td>120</td><td>0</td><td>0</td><td>0</td><td>0</td><td>0</td><td>0</td><td>0</td><td>0</td><td>0</td><td>0</td><td>0</td><td>0</td><td>0</td><td>0</td><td>0</td><td>0</td><td>0</td><td>0</td><td>0</td><td>0</td><td>0</td><td>0</td><td>0</td><td>0</td><td>0</td><td>0</td><td>0</td><td>0</td><td>0</td><td>0</td><td>0</td><td>0</td><td>0</td><td>0</td><td>0</td><td>0</td><td>0</td><td>0</td><td>0</td><td>0</td><td>0</td><td>0</td><td>0</td><td>0</td><td>0</td><td>0</td><td>0</td><td>0</td><td>0</td><td>0</td><td>0</td><td>0</td><td>0</td><td>0</td><td>0</td></tr><tr><td>&quot;AK&quot;</td><td>&quot;9/30/1994&quot;</td><td>&quot;P&quot;</td><td>4523</td><td>4187</td><td>0</td><td>325</td><td>541</td><td>2718</td><td>2796</td><td>1560</td><td>375</td><td>263</td><td>132</td><td>0</td><td>0</td><td>0</td><td>0</td><td>0</td><td>0</td><td>0</td><td>0</td><td>0</td><td>0</td><td>0</td><td>0</td><td>0</td><td>0</td><td>0</td><td>0</td><td>0</td><td>0</td><td>0</td><td>0</td><td>0</td><td>0</td><td>0</td><td>0</td><td>0</td><td>0</td><td>0</td><td>0</td><td>0</td><td>0</td><td>0</td><td>0</td><td>0</td><td>0</td><td>0</td><td>0</td><td>0</td><td>0</td><td>0</td><td>0</td><td>0</td><td>0</td><td>0</td><td>0</td><td>0</td><td>0</td><td>0</td><td>0</td><td>0</td><td>0</td><td>0</td><td>0</td><td>0</td><td>0</td><td>0</td></tr><tr><td>&quot;AK&quot;</td><td>&quot;10/31/1994&quot;</td><td>&quot;P&quot;</td><td>5456</td><td>4388</td><td>0</td><td>309</td><td>636</td><td>3109</td><td>3201</td><td>1831</td><td>406</td><td>242</td><td>110</td><td>0</td><td>0</td><td>0</td><td>0</td><td>0</td><td>0</td><td>0</td><td>0</td><td>0</td><td>0</td><td>0</td><td>0</td><td>0</td><td>0</td><td>0</td><td>0</td><td>0</td><td>0</td><td>0</td><td>0</td><td>0</td><td>0</td><td>0</td><td>0</td><td>0</td><td>0</td><td>0</td><td>0</td><td>0</td><td>0</td><td>0</td><td>0</td><td>0</td><td>0</td><td>0</td><td>0</td><td>0</td><td>0</td><td>0</td><td>0</td><td>0</td><td>0</td><td>0</td><td>0</td><td>0</td><td>0</td><td>0</td><td>0</td><td>0</td><td>0</td><td>0</td><td>0</td><td>0</td><td>0</td><td>0</td></tr><tr><td>&quot;AK&quot;</td><td>&quot;11/30/1994&quot;</td><td>&quot;P&quot;</td><td>7869</td><td>5094</td><td>0</td><td>451</td><td>834</td><td>4174</td><td>4196</td><td>2327</td><td>482</td><td>323</td><td>176</td><td>0</td><td>0</td><td>0</td><td>0</td><td>0</td><td>0</td><td>0</td><td>0</td><td>0</td><td>0</td><td>0</td><td>0</td><td>0</td><td>0</td><td>0</td><td>0</td><td>0</td><td>0</td><td>0</td><td>0</td><td>0</td><td>0</td><td>0</td><td>0</td><td>0</td><td>0</td><td>0</td><td>0</td><td>0</td><td>0</td><td>0</td><td>0</td><td>0</td><td>0</td><td>0</td><td>0</td><td>0</td><td>0</td><td>0</td><td>0</td><td>0</td><td>0</td><td>0</td><td>0</td><td>0</td><td>0</td><td>0</td><td>0</td><td>0</td><td>0</td><td>0</td><td>0</td><td>0</td><td>0</td><td>0</td></tr><tr><td>&quot;AK&quot;</td><td>&quot;12/31/1994&quot;</td><td>&quot;P&quot;</td><td>8945</td><td>4602</td><td>0</td><td>502</td><td>838</td><td>4264</td><td>4382</td><td>2548</td><td>577</td><td>280</td><td>156</td><td>0</td><td>0</td><td>0</td><td>0</td><td>0</td><td>0</td><td>0</td><td>0</td><td>0</td><td>0</td><td>0</td><td>0</td><td>0</td><td>0</td><td>0</td><td>0</td><td>0</td><td>0</td><td>0</td><td>0</td><td>0</td><td>0</td><td>0</td><td>0</td><td>0</td><td>0</td><td>0</td><td>0</td><td>0</td><td>0</td><td>0</td><td>0</td><td>0</td><td>0</td><td>0</td><td>0</td><td>0</td><td>0</td><td>0</td><td>0</td><td>0</td><td>0</td><td>0</td><td>0</td><td>0</td><td>0</td><td>0</td><td>0</td><td>0</td><td>0</td><td>0</td><td>0</td><td>0</td><td>0</td><td>0</td></tr></tbody></table></div>"
      ],
      "text/plain": [
       "shape: (5, 69)\n",
       "┌─────┬────────────┬─────┬──────┬───┬─────┬─────┬─────┬─────┐\n",
       "│ st  ┆ rptdate    ┆ c1  ┆ c2   ┆ … ┆ c90 ┆ c91 ┆ c92 ┆ c93 │\n",
       "│ --- ┆ ---        ┆ --- ┆ ---  ┆   ┆ --- ┆ --- ┆ --- ┆ --- │\n",
       "│ str ┆ str        ┆ str ┆ i64  ┆   ┆ i64 ┆ i64 ┆ i64 ┆ i64 │\n",
       "╞═════╪════════════╪═════╪══════╪═══╪═════╪═════╪═════╪═════╡\n",
       "│ AK  ┆ 8/31/1994  ┆ P   ┆ 4388 ┆ … ┆ 0   ┆ 0   ┆ 0   ┆ 0   │\n",
       "│ AK  ┆ 9/30/1994  ┆ P   ┆ 4523 ┆ … ┆ 0   ┆ 0   ┆ 0   ┆ 0   │\n",
       "│ AK  ┆ 10/31/1994 ┆ P   ┆ 5456 ┆ … ┆ 0   ┆ 0   ┆ 0   ┆ 0   │\n",
       "│ AK  ┆ 11/30/1994 ┆ P   ┆ 7869 ┆ … ┆ 0   ┆ 0   ┆ 0   ┆ 0   │\n",
       "│ AK  ┆ 12/31/1994 ┆ P   ┆ 8945 ┆ … ┆ 0   ┆ 0   ┆ 0   ┆ 0   │\n",
       "└─────┴────────────┴─────┴──────┴───┴─────┴─────┴─────┴─────┘"
      ]
     },
     "execution_count": 102,
     "metadata": {},
     "output_type": "execute_result"
    }
   ],
   "source": [
    "# Load csv into polars from a URL\n",
    "# Link at https://oui.doleta.gov/unemploy/csv/ar203.csv -- Timeout error from ETA servers\n",
    "df = pl.read_csv(\"G:/My Drive/CAPP/2025_Q1_CAPP 30239/Data/ar203.csv\")\n",
    "df.head()"
   ]
  },
  {
   "cell_type": "code",
   "execution_count": 103,
   "metadata": {},
   "outputs": [],
   "source": [
    "# Create dictionary for rename\n",
    "rename_203 = {\n",
    "    \"st\": \"st\",  # State\n",
    "    \"rptdate\": \"dt\", # Report for preiod ending\n",
    "    \"c2\": \"gen_mal\",\n",
    "    \"c3\": \"gen_fem\",\n",
    "    \"c4\": \"gen_na\",\n",
    "    \"c40\": \"eth_hisp\",\n",
    "    \"c41\": \"eth_no_hisp\",\n",
    "    \"c42\": \"eth_na\",\n",
    "    \"c43\": \"rac_native\",\n",
    "    \"c44\": \"rac_asian\",\n",
    "    \"c45\": \"rac_black\",\n",
    "    \"c46\": \"rac_pac\",\n",
    "    \"c47\": \"rac_white\",\n",
    "    \"c12\": \"age_lt_22\",\n",
    "    \"c13\": \"age_22_24\",\n",
    "    \"c14\": \"age_25_34\",\n",
    "    \"c15\": \"age_35_44\",\n",
    "    \"c16\": \"age_45_54\",\n",
    "    \"c17\": \"age_55_59\",\n",
    "    \"c18\": \"age_60_64\",\n",
    "    \"c19\": \"age_gte_65\",\n",
    "    \"c20\": \"age_na\",\n",
    "}\n",
    "# TODO: Add industry and occupation "
   ]
  },
  {
   "cell_type": "code",
   "execution_count": 104,
   "metadata": {},
   "outputs": [],
   "source": [
    "df = df.rename(rename_203)\n",
    "# Ref: https://docs.pola.rs/user-guide/expressions/column-selections/#by-multiple-strings\n",
    "df = df.select(\"st\", \"dt\", pl.col(r\"^(gen|eth|rac|age)_.*$\"))"
   ]
  },
  {
   "cell_type": "code",
   "execution_count": 105,
   "metadata": {},
   "outputs": [
    {
     "data": {
      "text/html": [
       "<div><style>\n",
       ".dataframe > thead > tr,\n",
       ".dataframe > tbody > tr {\n",
       "  text-align: right;\n",
       "  white-space: pre-wrap;\n",
       "}\n",
       "</style>\n",
       "<small>shape: (5, 24)</small><table border=\"1\" class=\"dataframe\"><thead><tr><th>st</th><th>dt</th><th>gen_mal</th><th>gen_fem</th><th>gen_na</th><th>age_lt_22</th><th>age_22_24</th><th>age_25_34</th><th>age_35_44</th><th>age_45_54</th><th>age_55_59</th><th>age_60_64</th><th>age_gte_65</th><th>age_na</th><th>eth_hisp</th><th>eth_no_hisp</th><th>eth_na</th><th>rac_native</th><th>rac_asian</th><th>rac_black</th><th>rac_pac</th><th>rac_white</th><th>dt_m</th><th>dt_y</th></tr><tr><td>str</td><td>date</td><td>i64</td><td>i64</td><td>i64</td><td>i64</td><td>i64</td><td>i64</td><td>i64</td><td>i64</td><td>i64</td><td>i64</td><td>i64</td><td>i64</td><td>i64</td><td>i64</td><td>i64</td><td>i64</td><td>i64</td><td>i64</td><td>i64</td><td>i64</td><td>i8</td><td>i32</td></tr></thead><tbody><tr><td>&quot;AK&quot;</td><td>1994-08-31</td><td>4388</td><td>4554</td><td>0</td><td>343</td><td>527</td><td>2697</td><td>2907</td><td>1635</td><td>425</td><td>288</td><td>120</td><td>0</td><td>0</td><td>0</td><td>0</td><td>0</td><td>0</td><td>0</td><td>0</td><td>0</td><td>8</td><td>1994</td></tr><tr><td>&quot;AK&quot;</td><td>1994-09-30</td><td>4523</td><td>4187</td><td>0</td><td>325</td><td>541</td><td>2718</td><td>2796</td><td>1560</td><td>375</td><td>263</td><td>132</td><td>0</td><td>0</td><td>0</td><td>0</td><td>0</td><td>0</td><td>0</td><td>0</td><td>0</td><td>9</td><td>1994</td></tr><tr><td>&quot;AK&quot;</td><td>1994-10-31</td><td>5456</td><td>4388</td><td>0</td><td>309</td><td>636</td><td>3109</td><td>3201</td><td>1831</td><td>406</td><td>242</td><td>110</td><td>0</td><td>0</td><td>0</td><td>0</td><td>0</td><td>0</td><td>0</td><td>0</td><td>0</td><td>10</td><td>1994</td></tr><tr><td>&quot;AK&quot;</td><td>1994-11-30</td><td>7869</td><td>5094</td><td>0</td><td>451</td><td>834</td><td>4174</td><td>4196</td><td>2327</td><td>482</td><td>323</td><td>176</td><td>0</td><td>0</td><td>0</td><td>0</td><td>0</td><td>0</td><td>0</td><td>0</td><td>0</td><td>11</td><td>1994</td></tr><tr><td>&quot;AK&quot;</td><td>1994-12-31</td><td>8945</td><td>4602</td><td>0</td><td>502</td><td>838</td><td>4264</td><td>4382</td><td>2548</td><td>577</td><td>280</td><td>156</td><td>0</td><td>0</td><td>0</td><td>0</td><td>0</td><td>0</td><td>0</td><td>0</td><td>0</td><td>12</td><td>1994</td></tr></tbody></table></div>"
      ],
      "text/plain": [
       "shape: (5, 24)\n",
       "┌─────┬────────────┬─────────┬─────────┬───┬─────────┬───────────┬──────┬──────┐\n",
       "│ st  ┆ dt         ┆ gen_mal ┆ gen_fem ┆ … ┆ rac_pac ┆ rac_white ┆ dt_m ┆ dt_y │\n",
       "│ --- ┆ ---        ┆ ---     ┆ ---     ┆   ┆ ---     ┆ ---       ┆ ---  ┆ ---  │\n",
       "│ str ┆ date       ┆ i64     ┆ i64     ┆   ┆ i64     ┆ i64       ┆ i8   ┆ i32  │\n",
       "╞═════╪════════════╪═════════╪═════════╪═══╪═════════╪═══════════╪══════╪══════╡\n",
       "│ AK  ┆ 1994-08-31 ┆ 4388    ┆ 4554    ┆ … ┆ 0       ┆ 0         ┆ 8    ┆ 1994 │\n",
       "│ AK  ┆ 1994-09-30 ┆ 4523    ┆ 4187    ┆ … ┆ 0       ┆ 0         ┆ 9    ┆ 1994 │\n",
       "│ AK  ┆ 1994-10-31 ┆ 5456    ┆ 4388    ┆ … ┆ 0       ┆ 0         ┆ 10   ┆ 1994 │\n",
       "│ AK  ┆ 1994-11-30 ┆ 7869    ┆ 5094    ┆ … ┆ 0       ┆ 0         ┆ 11   ┆ 1994 │\n",
       "│ AK  ┆ 1994-12-31 ┆ 8945    ┆ 4602    ┆ … ┆ 0       ┆ 0         ┆ 12   ┆ 1994 │\n",
       "└─────┴────────────┴─────────┴─────────┴───┴─────────┴───────────┴──────┴──────┘"
      ]
     },
     "execution_count": 105,
     "metadata": {},
     "output_type": "execute_result"
    }
   ],
   "source": [
    "# Create month and date\n",
    "df = df.with_columns(\n",
    "    pl.col(\"dt\").str.to_date(format=\"%-m/%-d/%Y\", strict=True))\n",
    "df = df.with_columns(\n",
    "    pl.col(\"dt\").dt.month().alias(\"dt_m\"), \n",
    "    pl.col(\"dt\").dt.year().alias(\"dt_y\")\n",
    ")\n",
    "df.head()"
   ]
  },
  {
   "cell_type": "markdown",
   "metadata": {},
   "source": [
    "## 3. CPS Cleaning\n",
    "[Current Population Survey - NBER Rerelease](https://www.nber.org/research/data/current-population-survey-cps-basic-monthly-data): This is a person- / month-panel of Current Population Survey with some processing to construct relevant variables to estimate alternative unemployment rates. This data will be converted into state- / month-estimates of unemployment using various measures based on existing statistical software code I've written. I estimate that this will contain 18,309 records with the same variables of race, ethnicity, gender, and recent employment sector as ETA 203."
   ]
  },
  {
   "cell_type": "markdown",
   "metadata": {},
   "source": [
    "This gets a bit more complex due to how [unemployment rates are calculated](https://www.bls.gov/cps/definitions.htm) and [changes in the underlying survey measures](https://www.bls.gov/lau/notescps.htm). To handle this, I only work on the modern CPS implementaiton (Jan 1994-) and do not implement methodology to smooth or estimate local area unemployment statistics (LAUS). Because of this, my estimates are time bound and will not match state workforce agency recipiency releases. I can visualize this.\n",
    "\n",
    "Note: I do not produce demographic-level unemployment statistics. The Census warns heavily against this as the CPS is approximately a 1:2500 representative survey of employment in the US. That means that for small cells, e.g., BIPOC labor in Wyoming, there might be only 1 or 2 respondents to represent a multiple thousand person population."
   ]
  },
  {
   "cell_type": "code",
   "execution_count": null,
   "metadata": {},
   "outputs": [],
   "source": []
  }
 ],
 "metadata": {
  "kernelspec": {
   "display_name": ".venv",
   "language": "python",
   "name": "python3"
  },
  "language_info": {
   "codemirror_mode": {
    "name": "ipython",
    "version": 3
   },
   "file_extension": ".py",
   "mimetype": "text/x-python",
   "name": "python",
   "nbconvert_exporter": "python",
   "pygments_lexer": "ipython3",
   "version": "3.12.1"
  }
 },
 "nbformat": 4,
 "nbformat_minor": 2
}
